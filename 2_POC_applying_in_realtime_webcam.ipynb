{
 "cells": [
  {
   "cell_type": "code",
   "execution_count": 11,
   "metadata": {},
   "outputs": [],
   "source": [
    "# Bibliotecas\n",
    "import cv2\n",
    "import pandas as pd\n",
    "import numpy as np\n",
    "from tensorflow.keras.preprocessing.image import img_to_array\n",
    "from tensorflow.keras.models import load_model"
   ]
  },
  {
   "cell_type": "code",
   "execution_count": null,
   "metadata": {},
   "outputs": [],
   "source": [
    "# Carrega e instancia o cascade dentro da função Classificador Cascade do opencv\n",
    "face_cascade = cv2.CascadeClassifier('haarcascade_frontalface_default.xml')\n",
    "# Carrega e instancia o modelo classificador\n",
    "model = load_model(\"modelo_01_expressoes.h5\")\n",
    "# Lista de Expressões que serão utilizadas para rótulo\n",
    "expressoes = [\"Raiva\", \"Nojo\", \"Medo\", \"Feliz\", \"Triste\", \"Surpreso\", \"Neutro\"] \n",
    "# Pegando imagem em tempo real da Webcam\n",
    "captura = cv2.VideoCapture(0)\n",
    "\n",
    "while True:\n",
    "    ret, frame = captura.read()\n",
    "    \n",
    "    # === Detectando faces ===\n",
    "    # Converte video para escala de cinza para poder ajudar no processamento\n",
    "    cinza = cv2.cvtColor(frame, cv2.COLOR_BGR2GRAY) \n",
    "    # Utiliza o detect multiscale para detectar as faces e retornará um tensor com vários pontos detectados \n",
    "    # (caso mais de uma face)\n",
    "    faces = face_cascade.detectMultiScale(cinza,scaleFactor=1.2, minNeighbors=5, minSize=(100,100))\n",
    "    for x,y,w,h in faces:\n",
    "        frame = cv2.rectangle(frame,(x,y),(x+w,y+h+10),(255,50,50),2) # desenha retângulo ao redor da face\n",
    "        frame = cv2.putText(frame, 'Face encontrada', (x,y-30),cv2.FONT_HERSHEY_SIMPLEX,1.1, (0,0,255) ,2, cv2.LINE_AA)    \n",
    "        # === Extraindo ROI ===\n",
    "        roi = cinza[y:y + h, x:x + w]      # extraindo ROI \n",
    "        roi = cv2.resize(roi, (48, 48))    # redimensiona para o tamanho aceito pelo modelo treinado\n",
    "        roi = roi.astype(\"float\") / 255.0  # normalizando\n",
    "        roi = img_to_array(roi)            # convertendo para array para que a rede possa processar\n",
    "        roi = np.expand_dims(roi, axis=0)  # mudando para o shape aceito pela cnn (com canal numerodeimagem, lagura, altura, canal)\n",
    "    \n",
    "    # === Aplicando Classificador ===\n",
    "    # faz a predição - calcula as probabilidades\n",
    "    result = model.predict(roi)[0]\n",
    "    if result is not None:\n",
    "        for (index, (emotion, prob)) in enumerate(zip(expressoes, result)):\n",
    "        # nomes das emoções\n",
    "            text = \"{}: {:.2f}%\".format(emotion, prob * 100)\n",
    "            barra = int(prob * 150)  # calcula do tamanho da barra, com base na probabilidade\n",
    "            espaco_esquerda = 7      # é a coordenada x onde inicia a barra. define quantos pixels tem de espaçamento à esquerda das barras, pra não ficar muito no canto. \n",
    "            if barra <= espaco_esquerda:\n",
    "                barra = espaco_esquerda + 1\n",
    "            # se o tamanho da barra for menor que o espaço da esquerda então deixa a barra com 1 pixel de largura\n",
    "            # isso é feito pois estamos usando esse valor para passar por coordenada, se for menor então a barra irá crescer pra esquerda \n",
    "            cv2.rectangle(frame, (espaco_esquerda, (index * 18) + 7), (barra, (index * 18) + 18), (200, 250, 20), -1)\n",
    "            cv2.putText(frame, text, (15, (index * 18) + 15), cv2.FONT_HERSHEY_SIMPLEX, 0.25, (0, 0, 0), 1, cv2.LINE_AA)\n",
    "\n",
    "        resultado = np.argmax(result) # encontra a emoção com maior probabilidade\n",
    "              \n",
    "        cv2.putText(frame,'Estado: '+expressoes[resultado],(x,y+h+50), cv2.FONT_HERSHEY_SIMPLEX, 1.1,(255,255,255),1,cv2.LINE_AA) # escreve a emoção acima do rosto\n",
    "    \n",
    "    cv2.imshow('Video', frame)\n",
    "    if cv2.waitKey(1) == ord('q'):\n",
    "        break\n",
    "captura.release()\n",
    "cv2.destroyAllWindows()"
   ]
  },
  {
   "cell_type": "code",
   "execution_count": 11,
   "metadata": {},
   "outputs": [],
   "source": [
    "x,y,w,h = faces[0]\n"
   ]
  },
  {
   "cell_type": "code",
   "execution_count": null,
   "metadata": {},
   "outputs": [],
   "source": []
  }
 ],
 "metadata": {
  "kernelspec": {
   "display_name": "Python 3",
   "language": "python",
   "name": "python3"
  },
  "language_info": {
   "codemirror_mode": {
    "name": "ipython",
    "version": 3
   },
   "file_extension": ".py",
   "mimetype": "text/x-python",
   "name": "python",
   "nbconvert_exporter": "python",
   "pygments_lexer": "ipython3",
   "version": "3.8.3"
  }
 },
 "nbformat": 4,
 "nbformat_minor": 4
}
